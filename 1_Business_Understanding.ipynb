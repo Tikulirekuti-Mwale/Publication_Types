{
  "nbformat": 4,
  "nbformat_minor": 0,
  "metadata": {
    "colab": {
      "provenance": [],
      "authorship_tag": "ABX9TyMNK66amHZ/9fuBsTbWZ7e4",
      "include_colab_link": true
    },
    "kernelspec": {
      "name": "python3",
      "display_name": "Python 3"
    },
    "language_info": {
      "name": "python"
    }
  },
  "cells": [
    {
      "cell_type": "markdown",
      "metadata": {
        "id": "view-in-github",
        "colab_type": "text"
      },
      "source": [
        "<a href=\"https://colab.research.google.com/github/Tikulirekuti-Mwale/Publication_Types/blob/main/1_Business_Understanding.ipynb\" target=\"_parent\"><img src=\"https://colab.research.google.com/assets/colab-badge.svg\" alt=\"Open In Colab\"/></a>"
      ]
    },
    {
      "cell_type": "code",
      "execution_count": null,
      "metadata": {
        "id": "54MBGFW3ktG8"
      },
      "outputs": [],
      "source": []
    },
    {
      "cell_type": "markdown",
      "source": [
        "CLASSIFICATIONS OF PUBLICATION TYPES\n",
        "PROBLEM STATEMENT\n",
        "In academic and research databases, publications come in a variety of formats such as journal articles, conference papers, book chapters, reports, and theses. Without proper classification, users may struggle to filter and find relevant resources quickly. Manual classificaition is time-consuming, error-prone, and inconsistent. There is a need for an automated, accurate, and scalable system that can classify publication types based on their content, metadata, or structure.\n",
        "BUSINESS OBJECTIVES\n",
        "The goal is to develop an automated classification model that can accurately categorize publications into their respective types. Success means that:\n",
        "- Researchers and librarians can retrieve relevant materials faster.\n",
        "- The system reduces manual workload in academic repositories.\n",
        "- Users gain a more organized and searchable database of publications.\n",
        "From a real-world perspective, this will save time, improve resource accessibility, and enhance knowledge discovery in academic and research environments.\n",
        "DATA MINING GOALS\n",
        "We will build a classification model to automatically categorize publication records into predefined types (e.g., Journal Article, Conference Paper, Book Chapter, Technical Report, Thesis). The model will leverage features extracted from publication metadata (title, abstract, keywords, publisher) and possibly the content itself to predict the publication type.\n",
        "INITIAL PROJECT SUCCESS CRITERIA\n",
        "-\tThe classification model should achieve at least 85% accuracy on the test dataset.\n",
        "- The model should maintain consistent performance across different publication types, with no class having an F1-score lower than 75%.\n",
        "- Predictions should be interpretable, allowing users to understand which features influenced the classification decision.\n"
      ],
      "metadata": {
        "id": "4VLEE7fnk8ZD"
      }
    }
  ]
}